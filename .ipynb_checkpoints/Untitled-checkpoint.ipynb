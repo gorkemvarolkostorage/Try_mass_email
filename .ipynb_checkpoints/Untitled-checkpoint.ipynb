{
 "cells": [
  {
   "cell_type": "code",
   "execution_count": 2,
   "id": "4787ce5f",
   "metadata": {},
   "outputs": [],
   "source": [
    "\n",
    "import pandas as pd\n",
    "import csv\n",
    "from time import sleep\n",
    "import win32com.client as client\n",
    "import smtplib\n",
    "from email.mime.multipart import MIMEMultipart\n",
    "from email.mime.text import MIMEText\n",
    "\n",
    "\n",
    "\n",
    "\n",
    "# open distribution list\n",
    "with open('people3.csv', 'r', newline='') as f:\n",
    "    reader = csv.reader(f)\n",
    "    distro = [row for row in reader]\n",
    "\n",
    "# chunk distribution list into blocks of 30\n",
    "chunks = [distro[x:x+30] for x in range(0, len(distro), 30)]\n",
    "\n",
    "# create outlook instance\n",
    "outlook = client.Dispatch('Outlook.Application')\n",
    "\n",
    "\n",
    "# iterate through chunks and send mail\n",
    "for chunk in chunks:\n",
    "    # iterate through each recipient in chunk and send mail\n",
    "    for name, address in chunk:\n",
    "        message = outlook.CreateItem(0)\n",
    "        message.To = address\n",
    "        message.Subject = \"KO Storage NPS Survey\"\n",
    "        message.HTMLBody = '<h4 style=\"font-family:verdana;\"> We would like to hear your feedback</h4><p style=\"font-family:verdana\">We value your feedback, please take a few moments to give us your feedback - it is really useful in serving you better. <p style=\"font-family:verdana\">Take our survey:</p><p style=\"font-family:verdana\">https://forms.office.com/r/Qhv6cgXFjF </p> <p style=\"font-family:verdana\">We would like to thank you in advance for your time and your honest opinion.</p><p style=\"font-family:verdana\">Kind regards,</p><p style=\"font-family:verdana\"> KO Storage</p><img src=\"KO (45).png\" alt=\"KO Storage logo\" width=\"300\" height=\"150\">'\n",
    "        #message.Body = template.format(name)\n",
    "        message.Send()\n",
    "\n",
    "    # wait 60 seconds before sending next chunk\n",
    "    sleep(60)"
   ]
  },
  {
   "cell_type": "code",
   "execution_count": null,
   "id": "cf90fd53",
   "metadata": {},
   "outputs": [],
   "source": []
  },
  {
   "cell_type": "code",
   "execution_count": null,
   "id": "ed547358",
   "metadata": {},
   "outputs": [],
   "source": []
  }
 ],
 "metadata": {
  "kernelspec": {
   "display_name": "Python 3",
   "language": "python",
   "name": "python3"
  },
  "language_info": {
   "codemirror_mode": {
    "name": "ipython",
    "version": 3
   },
   "file_extension": ".py",
   "mimetype": "text/x-python",
   "name": "python",
   "nbconvert_exporter": "python",
   "pygments_lexer": "ipython3",
   "version": "3.8.8"
  }
 },
 "nbformat": 4,
 "nbformat_minor": 5
}
