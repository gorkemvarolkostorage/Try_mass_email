{
 "cells": [
  {
   "cell_type": "code",
   "execution_count": 1,
   "id": "7103540f",
   "metadata": {},
   "outputs": [
    {
     "name": "stdout",
     "output_type": "stream",
     "text": [
      "Requirement already satisfied: pywin32 in c:\\users\\gorkemvarol\\anaconda3\\lib\\site-packages (227)\n",
      "Note: you may need to restart the kernel to use updated packages.\n"
     ]
    }
   ],
   "source": [
    "pip install pywin32\n"
   ]
  },
  {
   "cell_type": "code",
   "execution_count": 2,
   "id": "b2952390",
   "metadata": {},
   "outputs": [],
   "source": [
    "import win32com.client\n",
    "import pandas as pd\n",
    "import csv\n",
    "from time import sleep\n",
    "import win32com.client as client\n",
    "import smtplib\n",
    "from email.mime.multipart import MIMEMultipart\n",
    "from email.mime.text import MIMEText"
   ]
  },
  {
   "cell_type": "code",
   "execution_count": 3,
   "id": "dfe39d2b",
   "metadata": {},
   "outputs": [],
   "source": [
    "outlook = win32com.client.Dispatch('outlook.application')"
   ]
  },
  {
   "cell_type": "code",
   "execution_count": 4,
   "id": "cba5741b",
   "metadata": {},
   "outputs": [
    {
     "data": {
      "text/html": [
       "<div>\n",
       "<style scoped>\n",
       "    .dataframe tbody tr th:only-of-type {\n",
       "        vertical-align: middle;\n",
       "    }\n",
       "\n",
       "    .dataframe tbody tr th {\n",
       "        vertical-align: top;\n",
       "    }\n",
       "\n",
       "    .dataframe thead th {\n",
       "        text-align: right;\n",
       "    }\n",
       "</style>\n",
       "<table border=\"1\" class=\"dataframe\">\n",
       "  <thead>\n",
       "    <tr style=\"text-align: right;\">\n",
       "      <th></th>\n",
       "      <th>gorkem</th>\n",
       "      <th>varol.mn@gmail.com</th>\n",
       "    </tr>\n",
       "  </thead>\n",
       "  <tbody>\n",
       "    <tr>\n",
       "      <th>0</th>\n",
       "      <td>gvarol</td>\n",
       "      <td>varol.mn@gmail.com</td>\n",
       "    </tr>\n",
       "    <tr>\n",
       "      <th>1</th>\n",
       "      <td>Helen</td>\n",
       "      <td>gvarol@kostorage.com</td>\n",
       "    </tr>\n",
       "  </tbody>\n",
       "</table>\n",
       "</div>"
      ],
      "text/plain": [
       "   gorkem    varol.mn@gmail.com\n",
       "0  gvarol    varol.mn@gmail.com\n",
       "1   Helen  gvarol@kostorage.com"
      ]
     },
     "execution_count": 4,
     "metadata": {},
     "output_type": "execute_result"
    }
   ],
   "source": [
    "mail = outlook.CreateItem(0)\n",
    "file = pd.read_csv(\"people3.csv\")\n",
    "file"
   ]
  },
  {
   "cell_type": "code",
   "execution_count": 5,
   "id": "d14a4ea9",
   "metadata": {},
   "outputs": [],
   "source": [
    "mail.To = 'gvarol@kostorage.com'\n",
    "mail.Subject = 'KO STORAGE SURVEY'\n",
    "mail.HTMLBody = '<h3>KO Storage is conducting a short survey, please tell us what you think.</h3><h2>Take our Survey: </h2><h2>https://forms.office.com/pages/responsepage.aspx?id=ItC0l-nUi0OLwFZMGgIFZAoX4NxrPnBHq3C5CIgCpwlUNDBTUFJZSDlTQzI5VDlIOTM2NDVLNzZYRy4u </h2>'\n",
    "#mail.HTMLBody = '<p>This is a paragraph.</p>'\n",
    "#mail.Body = \"This is the normal body\"\n",
    "mail.CC = 'varol.mn@gmail.com'"
   ]
  },
  {
   "cell_type": "code",
   "execution_count": 6,
   "id": "2fc99adb",
   "metadata": {},
   "outputs": [],
   "source": [
    "mail.Send()"
   ]
  },
  {
   "cell_type": "code",
   "execution_count": null,
   "id": "86fad400",
   "metadata": {},
   "outputs": [],
   "source": []
  }
 ],
 "metadata": {
  "kernelspec": {
   "display_name": "Python 3",
   "language": "python",
   "name": "python3"
  },
  "language_info": {
   "codemirror_mode": {
    "name": "ipython",
    "version": 3
   },
   "file_extension": ".py",
   "mimetype": "text/x-python",
   "name": "python",
   "nbconvert_exporter": "python",
   "pygments_lexer": "ipython3",
   "version": "3.8.8"
  }
 },
 "nbformat": 4,
 "nbformat_minor": 5
}
